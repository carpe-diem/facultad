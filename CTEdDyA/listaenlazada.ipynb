{
 "cells": [
  {
   "cell_type": "markdown",
   "metadata": {
    "slideshow": {
     "slide_type": "fragment"
    }
   },
   "source": [
    "#  Listas\n",
    "---"
   ]
  },
  {
   "cell_type": "code",
   "execution_count": 1,
   "metadata": {
    "collapsed": false
   },
   "outputs": [],
   "source": [
    "# %load listaenlazada.py\n",
    "import abc\n",
    "from abc import ABCMeta\n",
    "\n",
    "\n",
    "class Recorredor(object):\n",
    "    _actual = None\n",
    "\n",
    "    __metaclass__ = ABCMeta\n",
    "\n",
    "    def __init__(self, lista):\n",
    "        self._lista = lista\n",
    "\n",
    "    def comenzar(self):\n",
    "        \"\"\"Se prepara para recorrer los elementos de la lista.\"\"\"\n",
    "        if self._lista.getTamanio():\n",
    "            self._actual = 0\n",
    "        else:\n",
    "            raise StopIteration(\"No hay elementos en la lista\")\n",
    "\n",
    "    def elemento(self):\n",
    "        \"\"\" Retorna el elemento actual.\n",
    "        Returns:\n",
    "           Object: dato\n",
    "        \"\"\"\n",
    "        try:\n",
    "            nodo = self._lista._inicio\n",
    "\n",
    "            count = 0\n",
    "\n",
    "            while count != self._actual:\n",
    "                nodo = nodo.getSiguiente()\n",
    "                count += 1\n",
    "\n",
    "            return nodo.getDato()\n",
    "\n",
    "        except AttributeError:\n",
    "            return self._lista._datos[self._actual]\n",
    "\n",
    "        raise AttributeError\n",
    "\n",
    "    def proximo(self):\n",
    "        \"\"\" Avanza al próximo elemento de la lista.\"\"\"\n",
    "\n",
    "        if self._actual == self._lista.getTamanio() - 1:\n",
    "            raise StopIteration(\"No hay más elementos en la lista\")\n",
    "\n",
    "        self._actual += 1\n",
    "\n",
    "    def fin(self):\n",
    "        \"\"\" Determina si llegó o no al final de la lista.\n",
    "        Returns:\n",
    "            bool: True si llefo al final y False si no llego.\n",
    "        \"\"\"\n",
    "        if self._actual == self._lista.getTamanio() - 1:\n",
    "            return True\n",
    "        else:\n",
    "            return False\n",
    "\n",
    "    def agregar(self, elem):\n",
    "        \"\"\" Agrega el elemento en la posición actual.\n",
    "        Args:\n",
    "            elem (Object): dato\n",
    "        \"\"\"\n",
    "        self._lista.agregar(elem, self._actual)\n",
    "\n",
    "    def eliminar(self):\n",
    "        \"\"\" Elimina el elemento actual.\"\"\"\n",
    "        self._lista.eliminar(self._actual)\n",
    "        self._actual -= 1\n",
    "\n",
    "\n",
    "class Lista(object):\n",
    "    \"\"\" Clase abstracta.\"\"\"\n",
    "    _tamanio = 0\n",
    "\n",
    "    __metaclass__ = ABCMeta\n",
    "\n",
    "    def recorredor(self):\n",
    "        return Recorredor(self)\n",
    "\n",
    "    def getTamanio(self):\n",
    "        \"\"\" Metodo que devuelve la longitud de la lista.\n",
    "        Returns:\n",
    "            int: Tamaño de la lista\n",
    "        \"\"\"\n",
    "        return self._tamanio\n",
    "\n",
    "    @abc.abstractmethod\n",
    "    def elemento(self, pos):\n",
    "        raise NotImplementedError\n",
    "\n",
    "    @abc.abstractmethod\n",
    "    def agregar(self, elem, pos):\n",
    "        raise NotImplementedError\n",
    "\n",
    "    @abc.abstractmethod\n",
    "    def eliminar(self, pos):\n",
    "        raise NotImplementedError\n",
    "\n",
    "    @abc.abstractmethod\n",
    "    def esVacia(self):\n",
    "        raise NotImplementedError\n",
    "\n",
    "    @abc.abstractmethod\n",
    "    def incluye(self, elem):\n",
    "        raise NotImplementedError\n",
    "\n",
    "\n",
    "class Nodo(object):\n",
    "    _dato = None\n",
    "    _siguiente = None\n",
    "\n",
    "    def __str__(self):\n",
    "        return u\"Nodo <{d}>\".format(d=self._dato)\n",
    "\n",
    "    def __repr__(self):\n",
    "        return self.__str__()\n",
    "\n",
    "    def getDato(self):\n",
    "        return self._dato\n",
    "\n",
    "    def setDato(self, elem):\n",
    "        self._dato = elem\n",
    "\n",
    "    def getSiguiente(self):\n",
    "        return self._siguiente\n",
    "\n",
    "    def setSiguiente(self, sig):\n",
    "        self._siguiente = sig\n",
    "\n",
    "\n",
    "class ListaEnlazada(Lista):\n",
    "    _inicio = None\n",
    "\n",
    "    def __init__(self):\n",
    "        Lista.__init__(self)\n",
    "\n",
    "    def __str__(self):\n",
    "        aux = self._inicio\n",
    "\n",
    "        string = \"[\"\n",
    "        for n in range(0, self._tamanio):\n",
    "            if n is not 0:\n",
    "                string += \", \"\n",
    "            string += str(aux.getDato())\n",
    "            aux = aux.getSiguiente()\n",
    "\n",
    "        string += \"]\"\n",
    "\n",
    "        return string\n",
    "\n",
    "    def __repr__(self):\n",
    "        return self.__str__()\n",
    "\n",
    "    def elemento(self, pos):\n",
    "        \"\"\" Retorna el elemento de la posición indicada.\n",
    "        Args:\n",
    "            pos (int): posición en la lista.\n",
    "        Returns:\n",
    "            Object: elemento del nodo.\n",
    "        \"\"\"\n",
    "        if self._inicio == None or pos < 0 or pos > self._tamanio:\n",
    "            raise IndexError\n",
    "\n",
    "        aux = self._inicio\n",
    "        count = 0\n",
    "\n",
    "        while count != pos:\n",
    "            aux = aux.getSiguiente()\n",
    "            count += 1\n",
    "\n",
    "        return aux.getDato()\n",
    "\n",
    "    def agregar(self, elem, pos):\n",
    "        \"\"\"  Agrega el elemento en la posición indicada.\n",
    "        Si no se pasa posición, lo agrega en la última.\n",
    "        Args:\n",
    "            elem (Object): dato\n",
    "            pos (int): posición en la lista\n",
    "        \"\"\"\n",
    "        if pos > self._tamanio or pos < 0:\n",
    "            raise IndexError(\"Posición inválida\")\n",
    "\n",
    "        nuevo = Nodo()\n",
    "        nuevo.setDato(elem)\n",
    "\n",
    "        if self._inicio is None:\n",
    "            self._inicio = nuevo\n",
    "        elif self._inicio.getSiguiente() is None:\n",
    "            self._inicio.setSiguiente(nuevo)\n",
    "        elif pos == 0:\n",
    "            nuevo.setSiguiente(self._inicio)\n",
    "            self._inicio = nuevo\n",
    "        else:\n",
    "            actual = self._inicio\n",
    "            count = 0\n",
    "            while count != pos:\n",
    "                siguiente = actual.getSiguiente()\n",
    "                if count == pos - 1:\n",
    "                    if siguiente is not None:\n",
    "                        nuevo.setSiguiente(siguiente)\n",
    "                    actual.setSiguiente(nuevo)\n",
    "\n",
    "                actual = siguiente\n",
    "                count += 1\n",
    "\n",
    "        self._tamanio += 1\n",
    "\n",
    "    def eliminar(self, pos):\n",
    "        \"\"\" Elimina el elemento de la posición indicada.\n",
    "        Args:\n",
    "            pos (int): posición en la lista\n",
    "        \"\"\"\n",
    "\n",
    "        if pos > self._tamanio - 1 or pos < 0:\n",
    "            raise IndexError(\"Posición inválida\")\n",
    "\n",
    "        actual = self._inicio\n",
    "        count = 0\n",
    "        while count != pos + 1:\n",
    "            siguiente = actual.getSiguiente()\n",
    "            if pos == 0 and siguiente is None:\n",
    "                self._inicio = None\n",
    "            elif pos == 0 and siguiente is not  None:\n",
    "                self._inicio = siguiente\n",
    "            elif count == pos - 1:\n",
    "                actual.setSiguiente(siguiente.getSiguiente())\n",
    "\n",
    "            actual = siguiente\n",
    "            count += 1\n",
    "\n",
    "        self._tamanio -= 1\n",
    "\n",
    "    def esVacia(self):\n",
    "        \"\"\" Metodo para saber si la lista esta vacia o no.\n",
    "        Returns:\n",
    "            bool: True si la lista esta vacia y False si no lo esta.\n",
    "        \"\"\"\n",
    "        return (self._tamanio == 0)\n",
    "\n",
    "    def incluye(self, elem):\n",
    "        \"\"\" Verificar si el elemento ya esta en la lista.\n",
    "        Args:\n",
    "            elem (Object): dato\n",
    "        Returns:\n",
    "            bool: True si elem esta contenido en la lista y False si no lo esta.\n",
    "        \"\"\"\n",
    "        if self.esVacia():\n",
    "            return False\n",
    "\n",
    "        aux = self._inicio\n",
    "        existe = False\n",
    "        continuar = True\n",
    "\n",
    "        while continuar:\n",
    "            if aux.getDato() == elem:\n",
    "                existe = True\n",
    "                continuar = False\n",
    "            aux = aux.getSiguiente()\n",
    "            if aux is None:\n",
    "                continuar = False\n",
    "\n",
    "        return existe\n",
    "\n",
    "\n",
    "class ListaConPyLista(Lista):\n",
    "\n",
    "    def __init__(self):\n",
    "        Lista.__init__(self)\n",
    "        self._datos = []\n",
    "\n",
    "    def __str__(self):\n",
    "        return str(self._datos)\n",
    "\n",
    "    def __repr__(self):\n",
    "        return self.__str__()\n",
    "\n",
    "    def elemento(self, pos):\n",
    "        \"\"\" Retorna el elemento de la posición indicada.\n",
    "        Args:\n",
    "            pos (int): posición en la lista.\n",
    "        Returns:\n",
    "            Object: elemento del nodo.\n",
    "        \"\"\"\n",
    "        if not self._datos or pos < 0 or pos > self._tamanio:\n",
    "            raise IndexError\n",
    "\n",
    "        return self._datos[pos]\n",
    "\n",
    "    def agregar(self, elem, pos):\n",
    "        \"\"\"  Agrega el elemento en la posición indicada.\n",
    "        Si no se pasa posición, lo agrega en la última.\n",
    "        Args:\n",
    "            elem (Object): dato\n",
    "            pos (int): posición en la lista\n",
    "        \"\"\"\n",
    "        if pos > self._tamanio or pos < 0:\n",
    "            raise IndexError(\"Posición inválida\")\n",
    "\n",
    "        self._datos.insert(pos, elem)\n",
    "        self._tamanio = len(self._datos)\n",
    "\n",
    "    def eliminar(self, pos):\n",
    "        \"\"\" Elimina el elemento de la posición indicada.\n",
    "        Args:\n",
    "            pos (int): posición en la lista\n",
    "        \"\"\"\n",
    "\n",
    "        if pos > self._tamanio - 1 or pos < 0:\n",
    "            raise IndexError(\"Posición inválida\")\n",
    "\n",
    "        self._datos.pop(pos)\n",
    "        self._tamanio = len(self._datos)\n",
    "\n",
    "    def esVacia(self):\n",
    "        \"\"\" Metodo para saber si la lista esta vacia o no.\n",
    "        Returns:\n",
    "            bool: True si la lista esta vacia y False si no lo esta.\n",
    "        \"\"\"\n",
    "        return (self._tamanio == 0)\n",
    "\n",
    "    def incluye(self, elem):\n",
    "        \"\"\" Verificar si el elemento ya esta en la lista.\n",
    "        Args:\n",
    "            elem (Object): dato\n",
    "        Returns:\n",
    "            bool: True si elem esta contenido en la lista y False si no lo esta.\n",
    "        \"\"\"\n",
    "        return True if elem in self._datos else False\n",
    "\n"
   ]
  },
  {
   "cell_type": "code",
   "execution_count": 2,
   "metadata": {
    "collapsed": false
   },
   "outputs": [
    {
     "name": "stderr",
     "output_type": "stream",
     "text": [
      "...........................................................\n",
      "----------------------------------------------------------------------\n",
      "Ran 59 tests in 0.053s\n",
      "\n",
      "OK\n"
     ]
    }
   ],
   "source": [
    "%run test_listaenlazada.py"
   ]
  },
  {
   "cell_type": "markdown",
   "metadata": {},
   "source": [
    "---\n",
    "## Uso de ListaEnlazada\n",
    "---"
   ]
  },
  {
   "cell_type": "code",
   "execution_count": 3,
   "metadata": {
    "collapsed": false
   },
   "outputs": [
    {
     "name": "stdout",
     "output_type": "stream",
     "text": [
      "[]\n"
     ]
    }
   ],
   "source": [
    "from listaenlazada import ListaEnlazada, Recorredor\n",
    "\n",
    "lista = ListaEnlazada()\n",
    "\n",
    "print lista"
   ]
  },
  {
   "cell_type": "code",
   "execution_count": 4,
   "metadata": {
    "collapsed": false
   },
   "outputs": [
    {
     "name": "stdout",
     "output_type": "stream",
     "text": [
      "True\n"
     ]
    }
   ],
   "source": [
    "print lista.esVacia()\n"
   ]
  },
  {
   "cell_type": "code",
   "execution_count": 5,
   "metadata": {
    "collapsed": false
   },
   "outputs": [
    {
     "name": "stdout",
     "output_type": "stream",
     "text": [
      "[uno, dos, tres, cuatro, cinco, seis]\n"
     ]
    }
   ],
   "source": [
    "lista.agregar('uno', 0)\n",
    "lista.agregar('dos', 1)\n",
    "lista.agregar('tres', 2)\n",
    "lista.agregar('cuatro', 3)\n",
    "lista.agregar('cinco', 4)\n",
    "lista.agregar('seis', 5)\n",
    "\n",
    "print lista"
   ]
  },
  {
   "cell_type": "code",
   "execution_count": 6,
   "metadata": {
    "collapsed": false
   },
   "outputs": [
    {
     "name": "stdout",
     "output_type": "stream",
     "text": [
      "[uno, dos, tres, cuatro, cinco, seis]\n"
     ]
    }
   ],
   "source": [
    "lista.esVacia()\n",
    "\n",
    "print lista"
   ]
  },
  {
   "cell_type": "code",
   "execution_count": 7,
   "metadata": {
    "collapsed": false
   },
   "outputs": [
    {
     "name": "stdout",
     "output_type": "stream",
     "text": [
      "False\n"
     ]
    }
   ],
   "source": [
    "print lista.esVacia()"
   ]
  },
  {
   "cell_type": "code",
   "execution_count": 8,
   "metadata": {
    "collapsed": false
   },
   "outputs": [
    {
     "name": "stdout",
     "output_type": "stream",
     "text": [
      "[uno, dos, 1/2, tres, cuatro, cinco, seis]\n"
     ]
    }
   ],
   "source": [
    "lista.agregar(\"1/2\", 2)\n",
    "print lista"
   ]
  },
  {
   "cell_type": "code",
   "execution_count": 9,
   "metadata": {
    "collapsed": false
   },
   "outputs": [
    {
     "name": "stdout",
     "output_type": "stream",
     "text": [
      "False\n"
     ]
    }
   ],
   "source": [
    "print lista.incluye('siete')"
   ]
  },
  {
   "cell_type": "code",
   "execution_count": 10,
   "metadata": {
    "collapsed": false
   },
   "outputs": [
    {
     "name": "stdout",
     "output_type": "stream",
     "text": [
      "True\n"
     ]
    }
   ],
   "source": [
    "lista.agregar('siete', 7)\n",
    "print lista.incluye('siete')"
   ]
  },
  {
   "cell_type": "code",
   "execution_count": 11,
   "metadata": {
    "collapsed": false
   },
   "outputs": [
    {
     "name": "stdout",
     "output_type": "stream",
     "text": [
      "[uno, dos, 1/2, tres, cuatro, cinco, seis, siete]\n"
     ]
    }
   ],
   "source": [
    "print lista"
   ]
  },
  {
   "cell_type": "code",
   "execution_count": 12,
   "metadata": {
    "collapsed": false,
    "scrolled": true
   },
   "outputs": [
    {
     "name": "stdout",
     "output_type": "stream",
     "text": [
      "uno\n"
     ]
    }
   ],
   "source": [
    "print lista.elemento(0)"
   ]
  },
  {
   "cell_type": "code",
   "execution_count": 13,
   "metadata": {
    "collapsed": false
   },
   "outputs": [
    {
     "name": "stdout",
     "output_type": "stream",
     "text": [
      "1/2\n"
     ]
    }
   ],
   "source": [
    "print lista.elemento(2)"
   ]
  },
  {
   "cell_type": "code",
   "execution_count": 14,
   "metadata": {
    "collapsed": false
   },
   "outputs": [
    {
     "name": "stdout",
     "output_type": "stream",
     "text": [
      "[uno, dos, tres, cuatro, cinco, seis, siete]\n"
     ]
    }
   ],
   "source": [
    "lista.eliminar(2)\n",
    "print lista"
   ]
  },
  {
   "cell_type": "code",
   "execution_count": 15,
   "metadata": {
    "collapsed": false,
    "scrolled": true
   },
   "outputs": [
    {
     "name": "stdout",
     "output_type": "stream",
     "text": [
      "[uno, dos, tres, cuatro, cinco, seis]\n"
     ]
    }
   ],
   "source": [
    "lista.eliminar(6)\n",
    "print lista"
   ]
  },
  {
   "cell_type": "markdown",
   "metadata": {},
   "source": [
    "---\n",
    "## Uso de ListaEnlazada\n",
    "---"
   ]
  },
  {
   "cell_type": "code",
   "execution_count": 16,
   "metadata": {
    "collapsed": false
   },
   "outputs": [
    {
     "name": "stdout",
     "output_type": "stream",
     "text": [
      "[]\n"
     ]
    }
   ],
   "source": [
    "from listaenlazada import ListaConPyLista, Recorredor\n",
    "\n",
    "lista = ListaEnlazada()\n",
    "\n",
    "print lista"
   ]
  },
  {
   "cell_type": "code",
   "execution_count": 17,
   "metadata": {
    "collapsed": false
   },
   "outputs": [
    {
     "name": "stdout",
     "output_type": "stream",
     "text": [
      "True\n"
     ]
    }
   ],
   "source": [
    "print lista.esVacia()\n"
   ]
  },
  {
   "cell_type": "code",
   "execution_count": 18,
   "metadata": {
    "collapsed": false,
    "scrolled": true
   },
   "outputs": [
    {
     "name": "stdout",
     "output_type": "stream",
     "text": [
      "[uno, dos, tres, cuatro, cinco, seis]\n"
     ]
    }
   ],
   "source": [
    "lista.agregar('uno', 0)\n",
    "lista.agregar('dos', 1)\n",
    "lista.agregar('tres', 2)\n",
    "lista.agregar('cuatro', 3)\n",
    "lista.agregar('cinco', 4)\n",
    "lista.agregar('seis', 5)\n",
    "\n",
    "print lista"
   ]
  },
  {
   "cell_type": "code",
   "execution_count": 19,
   "metadata": {
    "collapsed": false,
    "scrolled": true
   },
   "outputs": [
    {
     "name": "stdout",
     "output_type": "stream",
     "text": [
      "[uno, dos, tres, cuatro, cinco, seis]\n"
     ]
    }
   ],
   "source": [
    "lista.esVacia()\n",
    "\n",
    "print lista"
   ]
  },
  {
   "cell_type": "code",
   "execution_count": 20,
   "metadata": {
    "collapsed": false,
    "scrolled": true
   },
   "outputs": [
    {
     "name": "stdout",
     "output_type": "stream",
     "text": [
      "False\n"
     ]
    }
   ],
   "source": [
    "print lista.esVacia()"
   ]
  },
  {
   "cell_type": "code",
   "execution_count": 21,
   "metadata": {
    "collapsed": false,
    "scrolled": true
   },
   "outputs": [
    {
     "name": "stdout",
     "output_type": "stream",
     "text": [
      "[uno, dos, 1/2, tres, cuatro, cinco, seis]\n"
     ]
    }
   ],
   "source": [
    "lista.agregar(\"1/2\", 2)\n",
    "print lista"
   ]
  },
  {
   "cell_type": "code",
   "execution_count": 22,
   "metadata": {
    "collapsed": false,
    "scrolled": true
   },
   "outputs": [
    {
     "name": "stdout",
     "output_type": "stream",
     "text": [
      "False\n"
     ]
    }
   ],
   "source": [
    "print lista.incluye('siete')"
   ]
  },
  {
   "cell_type": "code",
   "execution_count": 23,
   "metadata": {
    "collapsed": false,
    "scrolled": true
   },
   "outputs": [
    {
     "name": "stdout",
     "output_type": "stream",
     "text": [
      "True\n"
     ]
    }
   ],
   "source": [
    "lista.agregar('siete', 7)\n",
    "print lista.incluye('siete')"
   ]
  },
  {
   "cell_type": "code",
   "execution_count": 24,
   "metadata": {
    "collapsed": false,
    "scrolled": true
   },
   "outputs": [
    {
     "name": "stdout",
     "output_type": "stream",
     "text": [
      "[uno, dos, 1/2, tres, cuatro, cinco, seis, siete]\n"
     ]
    }
   ],
   "source": [
    "print lista"
   ]
  },
  {
   "cell_type": "code",
   "execution_count": 25,
   "metadata": {
    "collapsed": false,
    "scrolled": true
   },
   "outputs": [
    {
     "name": "stdout",
     "output_type": "stream",
     "text": [
      "uno\n"
     ]
    }
   ],
   "source": [
    "print lista.elemento(0)"
   ]
  },
  {
   "cell_type": "code",
   "execution_count": 26,
   "metadata": {
    "collapsed": false,
    "scrolled": true
   },
   "outputs": [
    {
     "name": "stdout",
     "output_type": "stream",
     "text": [
      "1/2\n"
     ]
    }
   ],
   "source": [
    "print lista.elemento(2)"
   ]
  },
  {
   "cell_type": "code",
   "execution_count": 27,
   "metadata": {
    "collapsed": false
   },
   "outputs": [
    {
     "name": "stdout",
     "output_type": "stream",
     "text": [
      "[uno, dos, tres, cuatro, cinco, seis, siete]\n"
     ]
    }
   ],
   "source": [
    "lista.eliminar(2)\n",
    "print lista"
   ]
  },
  {
   "cell_type": "code",
   "execution_count": 28,
   "metadata": {
    "collapsed": false
   },
   "outputs": [
    {
     "name": "stdout",
     "output_type": "stream",
     "text": [
      "[uno, dos, tres, cuatro, cinco, seis]\n"
     ]
    }
   ],
   "source": [
    "lista.eliminar(6)\n",
    "print lista"
   ]
  }
 ],
 "metadata": {
  "kernelspec": {
   "display_name": "Python 2",
   "language": "python",
   "name": "python2"
  },
  "language_info": {
   "codemirror_mode": {
    "name": "ipython",
    "version": 2
   },
   "file_extension": ".py",
   "mimetype": "text/x-python",
   "name": "python",
   "nbconvert_exporter": "python",
   "pygments_lexer": "ipython2",
   "version": "2.7.10"
  }
 },
 "nbformat": 4,
 "nbformat_minor": 0
}
